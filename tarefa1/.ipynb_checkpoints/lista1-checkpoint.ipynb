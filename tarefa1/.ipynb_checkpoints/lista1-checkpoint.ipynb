{
 "cells": [
  {
   "cell_type": "code",
   "execution_count": 31,
   "metadata": {},
   "outputs": [],
   "source": [
    "import numpy as np\n",
    "import matplotlib.pyplot as plt\n",
    "import cv2\n",
    "\n",
    "%matplotlib inline"
   ]
  },
  {
   "cell_type": "code",
   "execution_count": 21,
   "metadata": {},
   "outputs": [
    {
     "name": "stdout",
     "output_type": "stream",
     "text": [
      "uint8\n",
      "2229.0\n",
      "(288, 352, 3)\n",
      "(288, 352, 1)\n"
     ]
    }
   ],
   "source": [
    "cap = cv2.VideoCapture('video1.mp4')\n",
    "\n",
    "(major_ver, minor_ver, subminor_ver) = (cv2.__version__).split('.')\n",
    "\n",
    "if int(major_ver)  < 3 :\n",
    "    fps = cap.get(cv2.cv.CV_CAP_PROP_FPS_COUNT)\n",
    "    shape_rgb = (cap.get(cv2.cv.CV_CAP_PROP_FRAME_HEIGHT), cap.get(cv2.CAP_PROP_FRAME_WIDTH), 3)\n",
    "    shape_grayscale = (cap.get(cv2.cv.CV_CAP_PROP_FRAME_HEIGHT), cap.get(cv2.cv.CV_CAP_PROP_FRAME_WIDTH), 1)\n",
    "else :\n",
    "    fps = cap.get(cv2.CAP_PROP_FRAME_COUNT)\n",
    "    shape_rgb = (int(cap.get(cv2.CAP_PROP_FRAME_HEIGHT)), int(cap.get(cv2.CAP_PROP_FRAME_WIDTH)), 3)\n",
    "    shape_grayscale = (int(cap.get(cv2.CAP_PROP_FRAME_HEIGHT)), int(cap.get(cv2.CAP_PROP_FRAME_WIDTH)), 1)\n",
    "\n",
    "volume_rgb = []\n",
    "volume_grayscale = []\n",
    "\n",
    "first_flag = True\n",
    "\n",
    "while(cap.isOpened()):\n",
    "    ret, frame = cap.read()\n",
    "    if(ret == True):\n",
    "        if(first_flag):\n",
    "            cv2.imwrite('first_frame_rgb.jpg', frame)\n",
    "            print(frame.dtype)\n",
    "        volume_rgb.append(frame)\n",
    "        gray = cv2.cvtColor(frame, cv2.COLOR_BGR2GRAY)\n",
    "        if(first_flag):\n",
    "            cv2.imwrite('first_frame_grayscale.jpg', gray)\n",
    "            first_flag = False\n",
    "        volume_grayscale.append(gray)\n",
    "        cv2.imshow('frame',gray)\n",
    "        if cv2.waitKey(1) & 0xFF == ord('q'):\n",
    "            break\n",
    "    else:   \n",
    "        print(fps)\n",
    "        print(shape_rgb)\n",
    "        print(shape_grayscale)\n",
    "        break\n",
    "\n",
    "cap.release()\n",
    "cv2.destroyAllWindows()\n",
    "volume_rgb = np.array(volume_rgb)\n",
    "volume_grayscale = np.array(volume_grayscale)"
   ]
  },
  {
   "cell_type": "code",
   "execution_count": 64,
   "metadata": {},
   "outputs": [],
   "source": [
    "# Mean of all RGB pixels\n",
    "h = shape_rgb[0]\n",
    "w = shape_rgb[1]\n",
    "out_rgb = np.zeros(shape_rgb, dtype=np.uint8)\n",
    "for height in range(0, h):\n",
    "    for width in range(0, w):\n",
    "        r = int(volume_rgb[:,height,width][0].mean())\n",
    "        g = int(volume_rgb[:,height,width][1].mean())\n",
    "        b = int(volume_rgb[:,height,width][2].mean())\n",
    "\n",
    "        out_rgb[height, width] = np.array([r, g, b])\n",
    "\n",
    "# cv2.normalize(out_rgb, out_rgb, 0, 255, cv2.NORM_MINMAX)\n",
    "cv2.imshow('saida rgb', out_rgb)\n",
    "cv2.imwrite('mean_rgb.jpg', out_rgb)\n",
    "cv2.waitKey()\n",
    "cv2.destroyAllWindows()"
   ]
  },
  {
   "cell_type": "code",
   "execution_count": 65,
   "metadata": {},
   "outputs": [],
   "source": [
    "# Mean of all Grayscale pixels\n",
    "h = shape_rgb[0]\n",
    "w = shape_rgb[1]\n",
    "out_grayscale = np.zeros(shape_grayscale, dtype=np.uint8)\n",
    "for height in range(0, h):\n",
    "    for width in range(0, w):\n",
    "        out_grayscale[height, width] = int(volume_grayscale[:,height,width].mean())\n",
    "\n",
    "# cv2.normalize(out_grayscale, out_grayscale, 0, 255, cv2.NORM_MINMAX)\n",
    "cv2.imshow('saida graysclae', out_grayscale)\n",
    "cv2.imwrite('mean_grayscale.jpg', out_grayscale)\n",
    "cv2.waitKey()\n",
    "cv2.destroyAllWindows()"
   ]
  },
  {
   "cell_type": "code",
   "execution_count": 80,
   "metadata": {},
   "outputs": [
    {
     "data": {
      "text/plain": [
       "<BarContainer object of 100 artists>"
      ]
     },
     "execution_count": 80,
     "metadata": {},
     "output_type": "execute_result"
    },
    {
     "data": {
      "image/png": "[encoded data removed]",
      "text/plain": [
       "<Figure size 432x288 with 1 Axes>"
      ]
     },
     "metadata": {},
     "output_type": "display_data"
    }
   ],
   "source": [
    "# Correlation of Grayscale Pixels\n",
    "initial_point = (100, 100)\n",
    "number_offsets = 100\n",
    "number_frames = 2000;\n",
    "correlations_grayscale = []\n",
    "for i in range(1, number_offsets+1):\n",
    "    correlations_grayscale = np.append(\n",
    "        correlations_grayscale, \n",
    "        np.corrcoef(\n",
    "            volume_grayscale[:number_frames,initial_point[0],initial_point[1]], \n",
    "            volume_grayscale[:number_frames,initial_point[0],initial_point[1]+i]\n",
    "        )[0, 1]\n",
    "    )\n",
    "# correlations_grayscale = np.array(correlations_grayscale)\n",
    "\n",
    "plt.bar(np.arange(number_offsets), correlations_grayscale, color='gray')"
   ]
  },
  {
   "cell_type": "code",
   "execution_count": 79,
   "metadata": {},
   "outputs": [
    {
     "data": {
      "text/plain": [
       "<BarContainer object of 100 artists>"
      ]
     },
     "execution_count": 79,
     "metadata": {},
     "output_type": "execute_result"
    },
    {
     "data": {
      "image/png": "[encoded data removed]",
      "text/plain": [
       "<Figure size 1080x360 with 3 Axes>"
      ]
     },
     "metadata": {},
     "output_type": "display_data"
    }
   ],
   "source": [
    "# Correlation of RGB Pixels\n",
    "initial_point = (100, 100)\n",
    "number_offsets = 100\n",
    "number_frames = 2000;\n",
    "correlations_r = []\n",
    "correlations_g = []\n",
    "correlations_b = []\n",
    "for i in range(1, number_offsets+1):\n",
    "    correlations_r = np.append(\n",
    "        correlations_r, \n",
    "        np.corrcoef(\n",
    "            volume_rgb[:number_frames,initial_point[0],initial_point[1]][0], \n",
    "            volume_rgb[:number_frames,initial_point[0],initial_point[1]+i][0]\n",
    "        )[0, 1]\n",
    "    )\n",
    "    correlations_g = np.append(\n",
    "        correlations_g, \n",
    "        np.corrcoef(\n",
    "            volume_rgb[:number_frames,initial_point[0],initial_point[1]][1], \n",
    "            volume_rgb[:number_frames,initial_point[0],initial_point[1]+i][1]\n",
    "        )[0, 1]\n",
    "    )\n",
    "    correlations_b = np.append(\n",
    "        correlations_b, \n",
    "        np.corrcoef(\n",
    "            volume_rgb[:number_frames,initial_point[0],initial_point[1]][2], \n",
    "            volume_rgb[:number_frames,initial_point[0],initial_point[1]+i][2]\n",
    "        )[0, 1]\n",
    "    )\n",
    "# correlations_grayscale = np.array(correlations_grayscale)\n",
    "fig = plt.figure()\n",
    "fig.set_figheight(5)\n",
    "fig.set_figwidth(15)\n",
    "\n",
    "plt.subplot(1, 3, 1)\n",
    "plt.bar(np.arange(number_offsets), correlations_r, color='red')\n",
    "\n",
    "plt.subplot(1, 3, 2)\n",
    "plt.bar(np.arange(number_offsets), correlations_g, color='green')\n",
    "\n",
    "plt.subplot(1, 3, 3)\n",
    "plt.bar(np.arange(number_offsets), correlations_b, color='blue')"
   ]
  }
 ],
 "metadata": {
  "kernelspec": {
   "display_name": "Python 2",
   "language": "python",
   "name": "python2"
  },
  "language_info": {
   "codemirror_mode": {
    "name": "ipython",
    "version": 2
   },
   "file_extension": ".py",
   "mimetype": "text/x-python",
   "name": "python",
   "nbconvert_exporter": "python",
   "pygments_lexer": "ipython2",
   "version": "2.7.12"
  }
 },
 "nbformat": 4,
 "nbformat_minor": 2
}
