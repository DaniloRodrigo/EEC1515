{
 "cells": [
  {
   "cell_type": "markdown",
   "metadata": {},
   "source": [
    "## Tarefa 2\n",
    "### Implementar os seguintes filtros:\n",
    "\n",
    "1. Roberts\n",
    "2. Prewitt\n",
    "3. Sobel\n",
    "4. Laplaciano\n",
    "5. Canny\n",
    "\n",
    "6. Média\n",
    "7. Mediana (aplicação em remoção de ruído sal e pimenta)\n",
    "8. Gaussiana"
   ]
  },
  {
   "cell_type": "code",
   "execution_count": 1,
   "metadata": {},
   "outputs": [],
   "source": [
    "import numpy as np\n",
    "import cv2"
   ]
  },
  {
   "cell_type": "code",
   "execution_count": 14,
   "metadata": {},
   "outputs": [],
   "source": [
    "def mean_filter(img, kernel_size=3):\n",
    "    offset = kernel_size//2\n",
    "    \n",
    "    tmp = np.pad(img, (1,1), mode='constant', constant_values=0)\n",
    "    result = tmp\n",
    "    for i in range(offset, tmp.shape[0]-(offset+1)):\n",
    "        for j in range(offset, tmp.shape[1]-(offset+1)):\n",
    "            result[i,j] = tmp[i-offset:i+offset+1, j-offset: j+offset+1].mean()\n",
    "    return result\n",
    "            \n",
    "def median_filter(img, kernel_size=3):\n",
    "    offset = kernel_size//2\n",
    "    \n",
    "    tmp = np.pad(img, (1,1), mode='constant', constant_values=0)\n",
    "    result = tmp\n",
    "    for i in range(offset, tmp.shape[0]-(offset+1)):\n",
    "        for j in range(offset, tmp.shape[1]-(offset+1)):\n",
    "            result[i,j] = np.median(tmp[i-offset:i+offset+1, j-offset: j+offset+1])\n",
    "    return result\n",
    "\n",
    "def laplacian(img):\n",
    "    offset = 1\n",
    "    kernel = np.array([0, -1, 0, -1, 4, -1, 0, -1, 0])\n",
    "    tmp = np.pad(img, (1,1), mode='constant', constant_values=1)\n",
    "    result = np.zeros(tmp.shape)\n",
    "    for i in range(offset, img.shape[0]-(offset+1)):\n",
    "        for j in range(offset, img.shape[1]-(offset+1)):\n",
    "            result[i,j] = np.multiply(img[i-offset:i+offset+1, j-offset: j+offset+1].reshape(9), kernel).sum()\n",
    "    return result\n",
    "\n",
    "def sobel_x(img):\n",
    "    offset = 1\n",
    "    kernel = np.array([-1, 0, 1, -2, 0, 2, -1, 0, 1])\n",
    "    tmp = np.pad(img, (1,1), mode='constant', constant_values=1)\n",
    "    result = np.zeros(tmp.shape)\n",
    "    for i in range(offset, img.shape[0]-(offset+1)):\n",
    "        for j in range(offset, img.shape[1]-(offset+1)):\n",
    "#             print(np.reshape(img[i-offset:i+offset+1, j-offset: j+offset+1], 9))\n",
    "            result[i,j] = np.multiply(np.reshape(img[i-offset:i+offset+1, j-offset: j+offset+1], 9), kernel).sum()\n",
    "    return result\n",
    "\n",
    "def sobel_y(img):\n",
    "    offset = 1\n",
    "    kernel = np.array([1, 2, 1, 0, 0, 0, -1, -2, -1])\n",
    "    tmp = np.pad(img, (1,1), mode='constant', constant_values=1)\n",
    "    result = np.zeros(tmp.shape)\n",
    "    for i in range(offset, img.shape[0]-(offset+1)):\n",
    "        for j in range(offset, img.shape[1]-(offset+1)):\n",
    "#             print(np.reshape(img[i-offset:i+offset+1, j-offset: j+offset+1], 9))\n",
    "            result[i,j] = np.multiply(np.reshape(img[i-offset:i+offset+1, j-offset: j+offset+1], 9), kernel).sum()\n",
    "    return result\n",
    "\n",
    "def prewitt_x(img):\n",
    "    offset = 1\n",
    "    kernel = np.array([1, 0, -1, 1, 0, -1, 1, 0, -1])\n",
    "    tmp = np.pad(img, (1,1), mode='constant', constant_values=1)\n",
    "    result = np.zeros(tmp.shape)\n",
    "    for i in range(offset, img.shape[0]-(offset+1)):\n",
    "        for j in range(offset, img.shape[1]-(offset+1)):\n",
    "#             print(np.reshape(img[i-offset:i+offset+1, j-offset: j+offset+1], 9))\n",
    "            result[i,j] = np.multiply(np.reshape(img[i-offset:i+offset+1, j-offset: j+offset+1], 9), kernel).sum()\n",
    "    return result\n",
    "\n",
    "def prewitt_y(img):\n",
    "    offset = 1\n",
    "    kernel = np.array([1, 1, 1, 0, 0, 0, -1, -1, -1])\n",
    "    tmp = np.pad(img, (1,1), mode='constant', constant_values=1)\n",
    "    result = np.zeros(tmp.shape)\n",
    "    for i in range(offset, img.shape[0]-(offset+1)):\n",
    "        for j in range(offset, img.shape[1]-(offset+1)):\n",
    "#             print(np.reshape(img[i-offset:i+offset+1, j-offset: j+offset+1], 9))\n",
    "            result[i,j] = np.multiply(np.reshape(img[i-offset:i+offset+1, j-offset: j+offset+1], 9), kernel).sum()\n",
    "    return result\n",
    "\n",
    "def roberts_x(img):\n",
    "    offset = 1\n",
    "    kernel = np.array([0, -1, 1, 0])\n",
    "    tmp = np.pad(img, (1,1), mode='constant', constant_values=1)\n",
    "    result = np.zeros(img.shape)\n",
    "    for i in range(img.shape[0]-(offset+1)):\n",
    "        for j in range(img.shape[1]-(offset+1)):\n",
    "#             print(np.reshape(img[i-offset:i+offset+1, j-offset: j+offset+1], 9))\n",
    "            result[i,j] = np.multiply(np.reshape(img[i:i+2, j: j+2], 4), kernel).sum()\n",
    "    return result\n",
    "\n",
    "def roberts_y(img):\n",
    "    offset = 1\n",
    "    kernel = np.array([-1, 0, 0, 1])\n",
    "#     tmp = np.pad(img, (1,1), mode='constant', constant_values=1)\n",
    "    result = np.zeros(img.shape)\n",
    "    for i in range(img.shape[0]-(offset+1)):\n",
    "        for j in range(img.shape[1]-(offset+1)):\n",
    "#             print(np.reshape(img[i-offset:i+offset+1, j-offset: j+offset+1], 9))\n",
    "            result[i,j] = np.multiply(np.reshape(img[i:i+2, j: j+2], 4), kernel).sum()\n",
    "    return result\n",
    "\n",
    "def gaussian(img):\n",
    "    offset = 1\n",
    "    kernel = np.array([1, 2, 1, 2, 4, 2, 1, 2, 1])\n",
    "    tmp = np.pad(img, (1,1), mode='constant', constant_values=1)\n",
    "    result = np.zeros(tmp.shape)\n",
    "    for i in range(offset, img.shape[0]-(offset+1)):\n",
    "        for j in range(offset, img.shape[1]-(offset+1)):\n",
    "#             print(np.reshape(img[i-offset:i+offset+1, j-offset: j+offset+1], 9))\n",
    "            result[i,j] = np.multiply(np.reshape(img[i-offset:i+offset+1, j-offset: j+offset+1], 9), kernel).sum()/16\n",
    "    return result"
   ]
  },
  {
   "cell_type": "code",
   "execution_count": 15,
   "metadata": {},
   "outputs": [],
   "source": [
    "src = cv2.imread('images/bear.png', 0)\n",
    "src2 = cv2.imread('images/lighthouse.png', 0)\n",
    "# src = cv2.GaussianBlur(src, (5,5), 0)\n",
    "mean = mean_filter(src)\n",
    "median = median_filter(src)\n",
    "laplacian = laplacian(src2)\n",
    "sobel_x = sobel_x(src2)\n",
    "sobel_y = sobel_y(src2)\n",
    "prewitt_x = prewitt_x(src2)\n",
    "prewitt_y = prewitt_y(src2)\n",
    "roberts_x = roberts_x(src2)\n",
    "roberts_y = roberts_y(src2)\n",
    "gaussian = gaussian(src2)\n",
    "\n",
    "# print(lap)\n",
    "cv2.imwrite('mean.png', mean)\n",
    "cv2.imwrite('median.png', median)\n",
    "cv2.imwrite('laplacina.png', laplacian)\n",
    "cv2.imwrite('sobel_x.png', sobel_x)\n",
    "cv2.imwrite('sobel_y.png', sobel_y)\n",
    "cv2.imwrite('prewitt_x.png', prewitt_x)\n",
    "cv2.imwrite('prewitt_y.png', prewitt_y)\n",
    "cv2.imwrite('roberts_x.png', roberts_x)\n",
    "cv2.imwrite('roberts_y.png', roberts_y)\n",
    "cv2.imwrite('gaussian.png', gaussian)\n",
    "cv2.waitKey(0)\n",
    "cv2.destroyAllWindows()"
   ]
  },
  {
   "cell_type": "code",
   "execution_count": 11,
   "metadata": {},
   "outputs": [
    {
     "data": {
      "text/plain": [
       "array([1, 1, 1, 1, 2, 2, 2, 2, 3, 3, 3, 3, 4, 4, 4, 4])"
      ]
     },
     "execution_count": 11,
     "metadata": {},
     "output_type": "execute_result"
    }
   ],
   "source": [
    "a = np.array([[1,1,1,1], [2,2,2,2], [3,3,3,3], [4,4,4,4]])\n",
    "b = np.pad(a, (1,1), mode='constant', constant_values=0)\n",
    "a.reshape(16)"
   ]
  },
  {
   "cell_type": "code",
   "execution_count": 7,
   "metadata": {},
   "outputs": [
    {
     "data": {
      "text/plain": [
       "array([1, 2, 6, 4, 5])"
      ]
     },
     "execution_count": 7,
     "metadata": {},
     "output_type": "execute_result"
    }
   ],
   "source": [
    "c = np.array([1,1,2,1,1])\n",
    "d = np.array([1,2,3,4,5])\n",
    "\n",
    "np.multiply(c, d)"
   ]
  }
 ],
 "metadata": {
  "anaconda-cloud": {},
  "kernelspec": {
   "display_name": "Python 3",
   "language": "python",
   "name": "python3"
  },
  "language_info": {
   "codemirror_mode": {
    "name": "ipython",
    "version": 3
   },
   "file_extension": ".py",
   "mimetype": "text/x-python",
   "name": "python",
   "nbconvert_exporter": "python",
   "pygments_lexer": "ipython3",
   "version": "3.6.5"
  }
 },
 "nbformat": 4,
 "nbformat_minor": 1
}
