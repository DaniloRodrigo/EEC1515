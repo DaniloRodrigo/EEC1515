{
 "cells": [
  {
   "cell_type": "markdown",
   "metadata": {},
   "source": [
    "## Tarefa 2\n",
    "### Implementar os seguintes filtros:\n",
    "\n",
    "1. Roberts\n",
    "2. Prewitt\n",
    "3. Sobel\n",
    "4. Laplaciano\n",
    "5. Canny\n",
    "\n",
    "6. Média\n",
    "7. Mediana (aplicação em remoção de ruído sal e pimenta)\n",
    "8. Gaussiana"
   ]
  },
  {
   "cell_type": "code",
   "execution_count": 1,
   "metadata": {
    "collapsed": true
   },
   "outputs": [],
   "source": [
    "import numpy as np\n",
    "import cv2"
   ]
  },
  {
   "cell_type": "code",
   "execution_count": 17,
   "metadata": {
    "collapsed": true
   },
   "outputs": [],
   "source": [
    "def mean(img, kernel_size=3):\n",
    "    offset = kernel_size//2\n",
    "    \n",
    "    tmp = np.pad(img, (1,1), mode='constant', constant_values=0)\n",
    "    result = tmp\n",
    "    for i in range(offset, tmp.shape[0]-(offset+1)):\n",
    "        for j in range(offset, tmp.shape[1]-(offset+1)):\n",
    "            result[i,j] = tmp[i-offset:i+offset+1, j-offset: j+offset+1].mean()\n",
    "    return result\n",
    "            \n",
    "def median(img, kernel_size=3):\n",
    "    offset = kernel_size//2\n",
    "    \n",
    "    tmp = np.pad(img, (1,1), mode='constant', constant_values=0)\n",
    "    result = tmp\n",
    "    for i in range(offset, tmp.shape[0]-(offset+1)):\n",
    "        for j in range(offset, tmp.shape[1]-(offset+1)):\n",
    "            result[i,j] = np.median(tmp[i-offset:i+offset+1, j-offset: j+offset+1])\n",
    "    return result\n",
    "\n",
    "def laplacian(img):\n",
    "    offset = 1\n",
    "    kernel = np.array([0, -1, 0, -1, 4, -1, 0, -1, 0])\n",
    "    tmp = np.pad(img, (1,1), mode='constant', constant_values=1)\n",
    "    result = np.zeros(tmp.shape)\n",
    "    for i in range(offset, img.shape[0]-(offset+1)):\n",
    "        for j in range(offset, img.shape[1]-(offset+1)):\n",
    "            result[i,j] = np.multiply(img[i-offset:i+offset+1, j-offset: j+offset+1].reshape(9), kernel).sum()\n",
    "    return result\n",
    "\n",
    "def sobel_x(img):\n",
    "    offset = 1\n",
    "    kernel = np.array([-1, 0, 1, -2, 0, 2, -1, 0, 1])\n",
    "    tmp = np.pad(img, (1,1), mode='constant', constant_values=1)\n",
    "    result = np.zeros(tmp.shape)\n",
    "    for i in range(offset, img.shape[0]-(offset+1)):\n",
    "        for j in range(offset, img.shape[1]-(offset+1)):\n",
    "#             print(np.reshape(img[i-offset:i+offset+1, j-offset: j+offset+1], 9))\n",
    "            result[i,j] = np.multiply(np.reshape(img[i-offset:i+offset+1, j-offset: j+offset+1], 9), kernel).sum()\n",
    "    return result\n",
    "\n",
    "def sobel_y(img):\n",
    "    offset = 1\n",
    "    kernel = np.array([1, 2, 1, 0, 0, 0, -1, -2, -1])\n",
    "    tmp = np.pad(img, (1,1), mode='constant', constant_values=1)\n",
    "    result = np.zeros(tmp.shape)\n",
    "    for i in range(offset, img.shape[0]-(offset+1)):\n",
    "        for j in range(offset, img.shape[1]-(offset+1)):\n",
    "#             print(np.reshape(img[i-offset:i+offset+1, j-offset: j+offset+1], 9))\n",
    "            result[i,j] = np.multiply(np.reshape(img[i-offset:i+offset+1, j-offset: j+offset+1], 9), kernel).sum()\n",
    "    return result\n",
    "\n",
    "def prewitt_x(img):\n",
    "    offset = 1\n",
    "    kernel = np.array([1, 0, -1, 1, 0, -1, 1, 0, -1])\n",
    "    tmp = np.pad(img, (1,1), mode='constant', constant_values=1)\n",
    "    result = np.zeros(tmp.shape)\n",
    "    for i in range(offset, img.shape[0]-(offset+1)):\n",
    "        for j in range(offset, img.shape[1]-(offset+1)):\n",
    "#             print(np.reshape(img[i-offset:i+offset+1, j-offset: j+offset+1], 9))\n",
    "            result[i,j] = np.multiply(np.reshape(img[i-offset:i+offset+1, j-offset: j+offset+1], 9), kernel).sum()\n",
    "    return result\n",
    "\n",
    "def prewitt_y(img):\n",
    "    offset = 1\n",
    "    kernel = np.array([1, 1, 1, 0, 0, 0, -1, -1, -1])\n",
    "    tmp = np.pad(img, (1,1), mode='constant', constant_values=1)\n",
    "    result = np.zeros(tmp.shape)\n",
    "    for i in range(offset, img.shape[0]-(offset+1)):\n",
    "        for j in range(offset, img.shape[1]-(offset+1)):\n",
    "#             print(np.reshape(img[i-offset:i+offset+1, j-offset: j+offset+1], 9))\n",
    "            result[i,j] = np.multiply(np.reshape(img[i-offset:i+offset+1, j-offset: j+offset+1], 9), kernel).sum()\n",
    "    return result\n",
    "\n",
    "def roberts_x(img):\n",
    "    offset = 1\n",
    "    kernel = np.array([0, -1, 1, 0])\n",
    "    tmp = np.pad(img, (1,1), mode='constant', constant_values=1)\n",
    "    result = np.zeros(tmp.shape)\n",
    "    for i in range(offset, img.shape[0]-(offset+1)):\n",
    "        for j in range(offset, img.shape[1]-(offset+1)):\n",
    "#             print(np.reshape(img[i-offset:i+offset+1, j-offset: j+offset+1], 9))\n",
    "            result[i,j] = np.multiply(np.reshape(img[i-offset:i+offset+1, j-offset: j+offset+1], 9), kernel).sum()\n",
    "    return result\n",
    "\n",
    "def roberts_y(img):\n",
    "    offset = 1\n",
    "    kernel = np.array([-1, 0, 0, 1])\n",
    "    tmp = np.pad(img, (1,1), mode='constant', constant_values=1)\n",
    "    result = np.zeros(tmp.shape)\n",
    "    for i in range(offset, img.shape[0]-(offset+1)):\n",
    "        for j in range(offset, img.shape[1]-(offset+1)):\n",
    "#             print(np.reshape(img[i-offset:i+offset+1, j-offset: j+offset+1], 9))\n",
    "            result[i,j] = np.multiply(np.reshape(img[i-offset:i+offset+1, j-offset: j+offset+1], 9), kernel).sum()\n",
    "    return result\n",
    "\n",
    "def gaussian(img):\n",
    "    offset = 1\n",
    "    kernel = np.array([1, 2, 1, 2, 4, 2, 1, 2, 1])\n",
    "    tmp = np.pad(img, (1,1), mode='constant', constant_values=1)\n",
    "    result = np.zeros(tmp.shape)\n",
    "    for i in range(offset, img.shape[0]-(offset+1)):\n",
    "        for j in range(offset, img.shape[1]-(offset+1)):\n",
    "#             print(np.reshape(img[i-offset:i+offset+1, j-offset: j+offset+1], 9))\n",
    "            result[i,j] = np.multiply(np.reshape(img[i-offset:i+offset+1, j-offset: j+offset+1], 9), kernel).sum()/16\n",
    "    return result"
   ]
  },
  {
   "cell_type": "code",
   "execution_count": 18,
   "metadata": {
    "collapsed": true
   },
   "outputs": [],
   "source": [
    "# cap = cv2.VideoCapture(0)\n",
    "\n",
    "# while(True):\n",
    "#     ret, frame = cap.read()\n",
    "#     gray = cv2.cvtColor(frame, cv2.COLOR_RGB2GRAY)\n",
    "#     lap = cv2.Laplacian(gray, cv2.CV_64F)\n",
    "#     canny = cv2.Canny(gray, 0, 100)\n",
    "#     mean = mean(gray)\n",
    "#     cv2.imshow('video', mean)\n",
    "    \n",
    "#     if cv2.waitKey(1) & 0xFF == ord('q'):\n",
    "#         break\n",
    "\n",
    "src = cv2.imread('images/BigTree.jpg', 0)\n",
    "src = cv2.GaussianBlur(src, (5,5), 0)\n",
    "# mean = mean(src)\n",
    "# median = median(src)\n",
    "lap = sobel_y(src)\n",
    "\n",
    "# print(lap)\n",
    "# cv2.imshow('Mean', mean)\n",
    "# cv2.imshow('Median', median)\n",
    "cv2.imshow('Laplacina', lap)\n",
    "cv2.imshow('Source', src)\n",
    "cv2.waitKey(0)\n",
    "cv2.destroyAllWindows()"
   ]
  },
  {
   "cell_type": "code",
   "execution_count": 11,
   "metadata": {},
   "outputs": [
    {
     "data": {
      "text/plain": [
       "array([1, 1, 1, 1, 2, 2, 2, 2, 3, 3, 3, 3, 4, 4, 4, 4])"
      ]
     },
     "execution_count": 11,
     "metadata": {},
     "output_type": "execute_result"
    }
   ],
   "source": [
    "a = np.array([[1,1,1,1], [2,2,2,2], [3,3,3,3], [4,4,4,4]])\n",
    "b = np.pad(a, (1,1), mode='constant', constant_values=0)\n",
    "a.reshape(16)"
   ]
  },
  {
   "cell_type": "code",
   "execution_count": 7,
   "metadata": {},
   "outputs": [
    {
     "data": {
      "text/plain": [
       "array([1, 2, 6, 4, 5])"
      ]
     },
     "execution_count": 7,
     "metadata": {},
     "output_type": "execute_result"
    }
   ],
   "source": [
    "c = np.array([1,1,2,1,1])\n",
    "d = np.array([1,2,3,4,5])\n",
    "\n",
    "np.multiply(c, d)"
   ]
  }
 ],
 "metadata": {
  "anaconda-cloud": {},
  "kernelspec": {
   "display_name": "Python [anaconda3]",
   "language": "python",
   "name": "Python [anaconda3]"
  },
  "language_info": {
   "codemirror_mode": {
    "name": "ipython",
    "version": 3
   },
   "file_extension": ".py",
   "mimetype": "text/x-python",
   "name": "python",
   "nbconvert_exporter": "python",
   "pygments_lexer": "ipython3",
   "version": "3.5.4"
  }
 },
 "nbformat": 4,
 "nbformat_minor": 1
}
