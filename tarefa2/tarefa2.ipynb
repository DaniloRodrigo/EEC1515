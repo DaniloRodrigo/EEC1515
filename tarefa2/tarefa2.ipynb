{
 "cells": [
  {
   "cell_type": "markdown",
   "metadata": {},
   "source": [
    "## Tarefa 2\n",
    "### Implementar os seguintes filtros:\n",
    "\n",
    "1. Roberts\n",
    "2. Prewitt\n",
    "3. Sobel\n",
    "4. Laplaciano\n",
    "5. Canny\n",
    "\n",
    "6. Média\n",
    "7. Mediana (aplicação em remoção de ruído sal e pimenta)\n",
    "8. Gaussiana"
   ]
  },
  {
   "cell_type": "code",
   "execution_count": 4,
   "metadata": {
    "collapsed": true
   },
   "outputs": [],
   "source": [
    "import numpy as np\n",
    "import cv2"
   ]
  },
  {
   "cell_type": "code",
   "execution_count": 7,
   "metadata": {},
   "outputs": [],
   "source": [
    "def mean(img, kernel_size=3):\n",
    "    offset = kernel_size//2\n",
    "    \n",
    "    tmp = np.pad(img, (1,1), mode='constant', constant_values=0)\n",
    "    result = tmp\n",
    "    for i in range(offset, tmp.shape[0]-(offset+1)):\n",
    "        for j in range(offset, tmp.shape[1]-(offset+1)):\n",
    "            result[i,j] = tmp[i-offset:i+offset+1, j-offset: j+offset+1].mean()\n",
    "    return result\n",
    "            \n",
    "def median(img, kernel_size=3):\n",
    "    offset = kernel_size//2\n",
    "    \n",
    "    tmp = np.pad(img, (1,1), mode='constant', constant_values=0)\n",
    "    result = tmp\n",
    "    for i in range(offset, tmp.shape[0]-(offset+1)):\n",
    "        for j in range(offset, tmp.shape[1]-(offset+1)):\n",
    "            result[i,j] = np.median(tmp[i-offset:i+offset+1, j-offset: j+offset+1])\n",
    "    return result\n",
    "\n",
    "def laplacian(img):\n",
    "    offset = 1\n",
    "    kernel = np.array([0, -1, 0, -1, 4, -1, 0, -1, 0])\n",
    "    tmp = np.pad(img, (1,1), mode='constant', constant_values=0)\n",
    "    result = tmp\n",
    "    for i in range(offset, tmp.shape[0]-(offset+1)):\n",
    "        for j in range(offset, tmp.shape[1]-(offset+1)):\n",
    "            result[i,j] = np.multiply(np.reshape(tmp[i-offset:i+offset+1, j-offset: j+offset+1], 9), kernel).sum()\n",
    "    return result\n",
    "\n",
    "def sobel_x(img):\n",
    "    offset = 1\n",
    "    kernel = np.array([-1, 0, 1, -2, 0, 2, -1, 0, 1])\n",
    "    tmp = np.pad(img, (1,1), mode='constant', constant_values=0)\n",
    "    result = tmp\n",
    "    for i in range(offset, tmp.shape[0]-(offset+1)):\n",
    "        for j in range(offset, tmp.shape[1]-(offset+1)):\n",
    "            result[i,j] = np.multiply(np.reshape(tmp[i-offset:i+offset+1, j-offset: j+offset+1], 9), kernel).sum()\n",
    "    return result"
   ]
  },
  {
   "cell_type": "code",
   "execution_count": null,
   "metadata": {},
   "outputs": [],
   "source": [
    "# cap = cv2.VideoCapture(0)\n",
    "\n",
    "# while(True):\n",
    "#     ret, frame = cap.read()\n",
    "#     gray = cv2.cvtColor(frame, cv2.COLOR_RGB2GRAY)\n",
    "#     lap = cv2.Laplacian(gray, cv2.CV_64F)\n",
    "#     canny = cv2.Canny(gray, 0, 100)\n",
    "#     mean = mean(gray)\n",
    "#     cv2.imshow('video', mean)\n",
    "    \n",
    "#     if cv2.waitKey(1) & 0xFF == ord('q'):\n",
    "#         break\n",
    "\n",
    "src = cv2.imread('images/BigTree.jpg', 0)\n",
    "# mean = mean(src)\n",
    "# median = median(src)\n",
    "lap = sobel_x(src)\n",
    "\n",
    "# cv2.imshow('Mean', mean)\n",
    "# cv2.imshow('Median', median)\n",
    "cv2.imshow('Laplacina', lap)\n",
    "cv2.waitKey(0)\n",
    "cv2.destroyAllWindows()"
   ]
  },
  {
   "cell_type": "code",
   "execution_count": null,
   "metadata": {},
   "outputs": [],
   "source": [
    "a = np.array([[1,1,1,1], [2,2,2,2], [3,3,3,3], [4,4,4,4]])\n",
    "b = np.pad(a, (1,1), mode='constant', constant_values=0)\n",
    "a[1-1:1+2,1-1:1+2]"
   ]
  },
  {
   "cell_type": "code",
   "execution_count": null,
   "metadata": {},
   "outputs": [],
   "source": [
    "a.shape"
   ]
  }
 ],
 "metadata": {
  "anaconda-cloud": {},
  "kernelspec": {
   "display_name": "Python [Root]",
   "language": "python",
   "name": "Python [Root]"
  },
  "language_info": {
   "codemirror_mode": {
    "name": "ipython",
    "version": 3
   },
   "file_extension": ".py",
   "mimetype": "text/x-python",
   "name": "python",
   "nbconvert_exporter": "python",
   "pygments_lexer": "ipython3",
   "version": "3.5.4"
  }
 },
 "nbformat": 4,
 "nbformat_minor": 1
}
