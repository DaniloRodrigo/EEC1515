{
 "cells": [
  {
   "cell_type": "code",
   "execution_count": 2,
   "metadata": {
    "collapsed": true
   },
   "outputs": [],
   "source": [
    "import numpy as np\n",
    "import cv2"
   ]
  },
  {
   "cell_type": "code",
   "execution_count": 4,
   "metadata": {
    "collapsed": true
   },
   "outputs": [],
   "source": [
    "number_levels = 6\n",
    "\n",
    "src_apple = cv2.imread('images/apple_original.jpg')\n",
    "src_orange = cv2.imread('images/orange_original.jpg')\n",
    "\n",
    "gaussian_apple = [src_apple.copy()]\n",
    "gaussian_orange = [src_orange.copy()]"
   ]
  },
  {
   "cell_type": "code",
   "execution_count": 9,
   "metadata": {},
   "outputs": [],
   "source": [
    "for i in range(number_levels - 1):\n",
    "    gaussian_apple.append(cv2.pyrDown(gaussian_apple[i]))\n",
    "    gaussian_orange.append(cv2.pyrDown(gaussian_orange[i]))\n",
    "    \n",
    "# laplacian_apple = [gaussian_apple[number_levels-1].copy()]\n",
    "# laplacian_orange = [gaussian_orange[number_levels-1].copy()]\n",
    "\n",
    "laplacian_apple = [gaussian_apple[number_levels-1]]\n",
    "laplacian_orange = [gaussian_orange[number_levels-1]]\n",
    "\n",
    "for i in range(number_levels - 1, 0, -1):\n",
    "    laplacian_apple.append(gaussian_apple[i-1] - cv2.pyrUp(gaussian_apple[i]))\n",
    "    laplacian_orange.append(gaussian_orange[i-1] - cv2.pyrUp(gaussian_orange[i]))\n",
    "    \n",
    "mixed_side_by_side = []\n",
    "for i in range(number_levels):\n",
    "    cols = laplacian_apple[i].shape[1]\n",
    "    mixed_side_by_side.append(np.hstack((laplacian_apple[i][:,:int(cols/2)], laplacian_orange[i][:,int(cols/2):])))\n",
    "    \n",
    "reconstructed_side_by_side = mixed_side_by_side[0]\n",
    "for i in range(1, 6):\n",
    "    reconstructed_side_by_side = cv2.pyrUp(reconstructed_side_by_side) + mixed_side_by_side[i]\n",
    "    \n",
    "mixed_horizontal = []\n",
    "for i in range(number_levels):\n",
    "    cols = laplacian_apple[i].shape[1]\n",
    "    tmp = laplacian_apple[i]\n",
    "    for j in range(0, cols, 2):\n",
    "        tmp[j] = laplacian_orange[i][:,j]\n",
    "    mixed_horizontal.append(tmp)\n",
    "    \n",
    "reconstructed_horizontal = mixed_horizontal[0]\n",
    "for i in range(1, 6):\n",
    "    reconstructed_horizontal = cv2.pyrUp(reconstructed_horizontal) + mixed_horizontal[i]"
   ]
  },
  {
   "cell_type": "code",
   "execution_count": 4,
   "metadata": {},
   "outputs": [
    {
     "data": {
      "text/plain": [
       "(16, 16, 3)"
      ]
     },
     "execution_count": 4,
     "metadata": {},
     "output_type": "execute_result"
    }
   ],
   "source": [
    "gaussian_apple[5].shape"
   ]
  },
  {
   "cell_type": "code",
   "execution_count": 10,
   "metadata": {
    "collapsed": true
   },
   "outputs": [],
   "source": [
    "cv2.imshow('Side by side', reconstructed_side_by_side)\n",
    "cv2.imshow('Horizontal Interpoled', reconstructed_horizontal)\n",
    "cv2.waitKey(0)\n",
    "cv2.destroyAllWindows()"
   ]
  },
  {
   "cell_type": "code",
   "execution_count": null,
   "metadata": {
    "collapsed": true
   },
   "outputs": [],
   "source": [
    "a = np.array([5,5,5,5])\n",
    "b = np.array([1,2,1,1])\n",
    "a-b\n",
    "[None]*5"
   ]
  },
  {
   "cell_type": "code",
   "execution_count": 5,
   "metadata": {},
   "outputs": [
    {
     "name": "stdout",
     "output_type": "stream",
     "text": [
      "5\n",
      "4\n",
      "3\n",
      "2\n",
      "1\n"
     ]
    }
   ],
   "source": [
    "for i in range(5, 0, -1):\n",
    "    print(i)"
   ]
  }
 ],
 "metadata": {
  "anaconda-cloud": {},
  "kernelspec": {
   "display_name": "Python [Root]",
   "language": "python",
   "name": "Python [Root]"
  },
  "language_info": {
   "codemirror_mode": {
    "name": "ipython",
    "version": 3
   },
   "file_extension": ".py",
   "mimetype": "text/x-python",
   "name": "python",
   "nbconvert_exporter": "python",
   "pygments_lexer": "ipython3",
   "version": "3.5.4"
  }
 },
 "nbformat": 4,
 "nbformat_minor": 2
}
