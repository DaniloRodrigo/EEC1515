{
 "cells": [
  {
   "cell_type": "code",
   "execution_count": 5,
   "metadata": {
    "collapsed": true
   },
   "outputs": [],
   "source": [
    "import numpy as np\n",
    "import cv2\n",
    "import matplotlib.pyplot as plt\n",
    "\n",
    "%matplotlib inline"
   ]
  },
  {
   "cell_type": "code",
   "execution_count": 2,
   "metadata": {
    "collapsed": true
   },
   "outputs": [],
   "source": [
    "src = cv2.imread('images/os_src.jpg', 0)\n",
    "template = cv2.imread('images/os_template.jpg', 0)\n",
    "w, h = template.shape[::-1]"
   ]
  },
  {
   "cell_type": "markdown",
   "metadata": {},
   "source": [
    "### Template Matching para uma imagem"
   ]
  },
  {
   "cell_type": "code",
   "execution_count": 3,
   "metadata": {},
   "outputs": [
    {
     "name": "stdout",
     "output_type": "stream",
     "text": [
      "(168, 93)\n"
     ]
    }
   ],
   "source": [
    "res = cv2.matchTemplate(src, template, cv2.TM_CCOEFF_NORMED)\n",
    "min_val, max_val, min_loc, max_loc = cv2.minMaxLoc(res)\n",
    "\n",
    "top_left = max_loc\n",
    "print(max_loc)\n",
    "bottom_right = (top_left[0] + w, top_left[1] + h)\n",
    "\n",
    "cv2.rectangle(src,top_left, bottom_right, 0, 2)\n",
    "    \n",
    "cv2.imshow('SRC', src)\n",
    "cv2.imwrite('output/original_marked.png', src)\n",
    "cv2.imshow('Result', res)\n",
    "cv2.normalize(res, res, 0, 255, cv2.NORM_MINMAX)\n",
    "cv2.imwrite('output/matching.png', res)\n",
    "cv2.waitKey(0)\n",
    "cv2.destroyAllWindows()"
   ]
  },
  {
   "cell_type": "markdown",
   "metadata": {},
   "source": [
    "### Template Matching usando a pirâmide Gaussiana no template "
   ]
  },
  {
   "cell_type": "code",
   "execution_count": 13,
   "metadata": {},
   "outputs": [
    {
     "name": "stdout",
     "output_type": "stream",
     "text": [
      "(168, 93)\n",
      "(187, 108)\n",
      "(183, 346)\n",
      "(50, 319)\n"
     ]
    },
    {
     "data": {
      "image/png": "[encoded data removed]",
      "text/plain": [
       "<Figure size 800x800 with 4 Axes>"
      ]
     },
     "metadata": {},
     "output_type": "display_data"
    }
   ],
   "source": [
    "src = cv2.imread('images/os_src.jpg', 0)\n",
    "template = cv2.imread('images/os_template.jpg', 0)\n",
    "\n",
    "n_levels = 4\n",
    "gaussians = [template.copy()]\n",
    "results = []\n",
    "\n",
    "for i in range(n_levels - 1):\n",
    "    gaussians.append(cv2.pyrDown(gaussians[i]))\n",
    "    \n",
    "for i in range(n_levels):\n",
    "    out = src.copy()\n",
    "    w, h = gaussians[i].shape[::-1]\n",
    "    res = cv2.matchTemplate(src, gaussians[i], cv2.TM_CCOEFF_NORMED)\n",
    "    min_val, max_val, min_loc, max_loc = cv2.minMaxLoc(res)\n",
    "\n",
    "    top_left = max_loc\n",
    "    print(max_loc)\n",
    "    bottom_right = (top_left[0] + w, top_left[1] + h)\n",
    "    cv2.rectangle(out, top_left, bottom_right, 0, 2)\n",
    "    results.append(out.copy())\n",
    "    \n",
    "fig = plt.figure(figsize=(8, 8))\n",
    "\n",
    "for i in range(n_levels):\n",
    "    plt.subplot(1, n_levels+1, i+1)\n",
    "    plt.imshow(results[i])\n",
    "plt.subplot(1, n_levels+1, n_levels+1)\n",
    "plt.imshow(src)\n",
    "plt.show()"
   ]
  }
 ],
 "metadata": {
  "anaconda-cloud": {},
  "kernelspec": {
   "display_name": "Python [anaconda3]",
   "language": "python",
   "name": "Python [anaconda3]"
  },
  "language_info": {
   "codemirror_mode": {
    "name": "ipython",
    "version": 3
   },
   "file_extension": ".py",
   "mimetype": "text/x-python",
   "name": "python",
   "nbconvert_exporter": "python",
   "pygments_lexer": "ipython3",
   "version": "3.5.4"
  }
 },
 "nbformat": 4,
 "nbformat_minor": 2
}
