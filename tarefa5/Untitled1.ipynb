{
 "cells": [
  {
   "cell_type": "code",
   "execution_count": 1,
   "metadata": {
    "collapsed": true
   },
   "outputs": [],
   "source": [
    "import numpy as np\n",
    "import cv2\n",
    "import matplotlib.pyplot as plt"
   ]
  },
  {
   "cell_type": "code",
   "execution_count": 6,
   "metadata": {},
   "outputs": [
    {
     "name": "stderr",
     "output_type": "stream",
     "text": [
      "/home/danilo/anaconda3/lib/python3.5/site-packages/ipykernel/__main__.py:8: DeprecationWarning: object of type <class 'numpy.float64'> cannot be safely interpreted as an integer.\n"
     ]
    },
    {
     "ename": "IndexError",
     "evalue": "only integers, slices (`:`), ellipsis (`...`), numpy.newaxis (`None`) and integer or boolean arrays are valid indices",
     "output_type": "error",
     "traceback": [
      "\u001b[0;31m---------------------------------------------------------------------------\u001b[0m",
      "\u001b[0;31mIndexError\u001b[0m                                Traceback (most recent call last)",
      "\u001b[0;32m<ipython-input-6-d67cc98c014a>\u001b[0m in \u001b[0;36m<module>\u001b[0;34m()\u001b[0m\n\u001b[1;32m     31\u001b[0m \u001b[0mimage\u001b[0m \u001b[0;34m=\u001b[0m \u001b[0mnp\u001b[0m\u001b[0;34m.\u001b[0m\u001b[0mzeros\u001b[0m\u001b[0;34m(\u001b[0m\u001b[0;34m(\u001b[0m\u001b[0;36m50\u001b[0m\u001b[0;34m,\u001b[0m\u001b[0;36m50\u001b[0m\u001b[0;34m)\u001b[0m\u001b[0;34m)\u001b[0m\u001b[0;34m\u001b[0m\u001b[0m\n\u001b[1;32m     32\u001b[0m \u001b[0mimage\u001b[0m\u001b[0;34m[\u001b[0m\u001b[0;36m10\u001b[0m\u001b[0;34m:\u001b[0m\u001b[0;36m40\u001b[0m\u001b[0;34m,\u001b[0m \u001b[0;36m10\u001b[0m\u001b[0;34m:\u001b[0m\u001b[0;36m40\u001b[0m\u001b[0;34m]\u001b[0m \u001b[0;34m=\u001b[0m \u001b[0mnp\u001b[0m\u001b[0;34m.\u001b[0m\u001b[0meye\u001b[0m\u001b[0;34m(\u001b[0m\u001b[0;36m30\u001b[0m\u001b[0;34m)\u001b[0m\u001b[0;34m\u001b[0m\u001b[0m\n\u001b[0;32m---> 33\u001b[0;31m \u001b[0maccumulator\u001b[0m\u001b[0;34m,\u001b[0m \u001b[0mthetas\u001b[0m\u001b[0;34m,\u001b[0m \u001b[0mrhos\u001b[0m \u001b[0;34m=\u001b[0m \u001b[0mhough_line\u001b[0m\u001b[0;34m(\u001b[0m\u001b[0mimage\u001b[0m\u001b[0;34m)\u001b[0m\u001b[0;34m\u001b[0m\u001b[0m\n\u001b[0m\u001b[1;32m     34\u001b[0m \u001b[0;34m\u001b[0m\u001b[0m\n\u001b[1;32m     35\u001b[0m \u001b[0;31m# Easiest peak finding based on max votes\u001b[0m\u001b[0;34m\u001b[0m\u001b[0;34m\u001b[0m\u001b[0m\n",
      "\u001b[0;32m<ipython-input-6-d67cc98c014a>\u001b[0m in \u001b[0;36mhough_line\u001b[0;34m(img)\u001b[0m\n\u001b[1;32m     25\u001b[0m     \u001b[0;31m# Calculate rho. diag_len is added for a positive index\u001b[0m\u001b[0;34m\u001b[0m\u001b[0;34m\u001b[0m\u001b[0m\n\u001b[1;32m     26\u001b[0m         \u001b[0mrho\u001b[0m \u001b[0;34m=\u001b[0m \u001b[0mround\u001b[0m\u001b[0;34m(\u001b[0m\u001b[0mx\u001b[0m \u001b[0;34m*\u001b[0m \u001b[0mcos_t\u001b[0m\u001b[0;34m[\u001b[0m\u001b[0mt_idx\u001b[0m\u001b[0;34m]\u001b[0m \u001b[0;34m+\u001b[0m \u001b[0my\u001b[0m \u001b[0;34m*\u001b[0m \u001b[0msin_t\u001b[0m\u001b[0;34m[\u001b[0m\u001b[0mt_idx\u001b[0m\u001b[0;34m]\u001b[0m\u001b[0;34m)\u001b[0m \u001b[0;34m+\u001b[0m \u001b[0mdiag_len\u001b[0m\u001b[0;34m\u001b[0m\u001b[0m\n\u001b[0;32m---> 27\u001b[0;31m         \u001b[0maccumulator\u001b[0m\u001b[0;34m[\u001b[0m\u001b[0mrho\u001b[0m\u001b[0;34m,\u001b[0m \u001b[0mt_idx\u001b[0m\u001b[0;34m]\u001b[0m \u001b[0;34m+=\u001b[0m \u001b[0;36m1\u001b[0m\u001b[0;34m\u001b[0m\u001b[0m\n\u001b[0m\u001b[1;32m     28\u001b[0m \u001b[0;34m\u001b[0m\u001b[0m\n\u001b[1;32m     29\u001b[0m     \u001b[0;32mreturn\u001b[0m \u001b[0maccumulator\u001b[0m\u001b[0;34m,\u001b[0m \u001b[0mthetas\u001b[0m\u001b[0;34m,\u001b[0m \u001b[0mrhos\u001b[0m\u001b[0;34m\u001b[0m\u001b[0m\n",
      "\u001b[0;31mIndexError\u001b[0m: only integers, slices (`:`), ellipsis (`...`), numpy.newaxis (`None`) and integer or boolean arrays are valid indices"
     ]
    }
   ],
   "source": [
    "import numpy as np\n",
    "\n",
    "def hough_line(img):\n",
    "    thetas = np.deg2rad(np.arange(-90.0, 90.0))\n",
    "    width, height = img.shape\n",
    "    diag_len = np.ceil(np.sqrt(width * width + height * height))   # max_dist\n",
    "    rhos = np.linspace(-diag_len, diag_len, diag_len * 2.0)\n",
    "\n",
    "    cos_t = np.cos(thetas)\n",
    "    sin_t = np.sin(thetas)\n",
    "    num_thetas = len(thetas)\n",
    "\n",
    "    accumulator = np.zeros((2 * np.int(diag_len), num_thetas), dtype=np.uint64)\n",
    "    y_idxs, x_idxs = np.nonzero(img)  # (row, col) indexes to edges\n",
    "\n",
    "    for i in range(len(x_idxs)):\n",
    "        x = x_idxs[i]\n",
    "        y = y_idxs[i]\n",
    "\n",
    "    for t_idx in range(num_thetas):\n",
    "        rho = round(x * cos_t[t_idx] + y * sin_t[t_idx]) + diag_len\n",
    "        accumulator[rho, t_idx] += 1\n",
    "\n",
    "    return accumulator, thetas, rhos\n",
    "\n",
    "image = np.zeros((50,50))\n",
    "image[10:40, 10:40] = np.eye(30)\n",
    "accumulator, thetas, rhos = hough_line(image)\n",
    "\n",
    "# Easiest peak finding based on max votes\n",
    "idx = np.argmax(accumulator)\n",
    "rho = rhos[idx / accumulator.shape[1]]\n",
    "theta = thetas[idx % accumulator.shape[1]]\n",
    "print(\"rho={0:.2f}, theta={1:.0f}\".format(rho, np.rad2deg(theta)))"
   ]
  },
  {
   "cell_type": "code",
   "execution_count": null,
   "metadata": {
    "collapsed": true
   },
   "outputs": [],
   "source": [
    "def process(i, j, height, width, m, r, img):\n",
    "    if(i>=0 and i<height) and (j>=0 and j<width):\n",
    "#         if(img[i, j] > 200):\n",
    "        m[r-1,i,j] += 1\n",
    "\n",
    "src = cv2.imread('images/circles.jpg', 0)\n",
    "src = cv2.resize(src,(360,480))\n",
    "src = cv2.GaussianBlur(src, (5,5), 0)\n",
    "canny = cv2.Canny(src,100,200)\n",
    "\n",
    "# cv2.imshow('dasda', canny)\n",
    "# cv2.waitKey(0)\n",
    "# cv2.destroyAllWindows()\n",
    "\n",
    "hough_m = []\n",
    "\n",
    "thetas = []\n",
    "rhos = []\n",
    "\n",
    "for i in range(src.shape[0]):\n",
    "    for j in range(src.shape[1]):\n",
    "        if(canny[i, j] > 200):\n",
    "\n",
    "                \n",
    "for a in range(matrixes.shape[0]):\n",
    "    for b in range(matrixes.shape[1]):\n",
    "        for c in range(matrixes.shape[2]):\n",
    "            if(matrixes[a,b,c] > 4):\n",
    "                cv2.circle(src, (b,c), a+1, (0,0,0))\n",
    "                \n",
    "cv2.imshow('Result', src)\n",
    "cv2.waitKey(0)\n",
    "cv2.destroyAllWindows()"
   ]
  }
 ],
 "metadata": {
  "anaconda-cloud": {},
  "kernelspec": {
   "display_name": "Python [anaconda3]",
   "language": "python",
   "name": "Python [anaconda3]"
  },
  "language_info": {
   "codemirror_mode": {
    "name": "ipython",
    "version": 3
   },
   "file_extension": ".py",
   "mimetype": "text/x-python",
   "name": "python",
   "nbconvert_exporter": "python",
   "pygments_lexer": "ipython3",
   "version": "3.5.4"
  }
 },
 "nbformat": 4,
 "nbformat_minor": 1
}
