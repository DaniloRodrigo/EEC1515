{
 "cells": [
  {
   "cell_type": "code",
   "execution_count": 1,
   "metadata": {
    "collapsed": true
   },
   "outputs": [],
   "source": [
    "import numpy as np\n",
    "import cv2\n",
    "import matplotlib.pyplot as plt"
   ]
  },
  {
   "cell_type": "code",
   "execution_count": 2,
   "metadata": {},
   "outputs": [],
   "source": [
    "src = cv2.imread('images/circles.jpg', 0)\n",
    "src = cv2.resize(src,(360,480))\n",
    "src = cv2.GaussianBlur(src, (5,5), 0)\n",
    "canny = cv2.Canny(src,100,200)\n",
    "\n",
    "n_radius = 60\n",
    "radius = []\n",
    "matrixes = []\n",
    "\n",
    "for i in range(1, n_radius+1):\n",
    "    radius.append(i)\n",
    "    matrixes.append(np.zeros(canny.shape))\n",
    "    \n",
    "matrixes = np.array(matrixes)\n",
    "\n",
    "for i in range(src.shape[0]):\n",
    "    for j in range(src.shape[1]):\n",
    "        if(canny[i, j] > 200):\n",
    "            for r in radius:\n",
    "                for t in range(0, 360+1):\n",
    "                    a = j - r * np.cos(t * np.pi / 180);\n",
    "                    b = i - r * np.sin(t * np.pi / 180);\n",
    "                    if(a>=0 and a<src.shape[0]) and (b>=0 and b<src.shape[1]):\n",
    "                        matrixes[r-1,np.int(a),np.int(b)] += 1\n",
    "                \n",
    "for a in range(matrixes.shape[0]):\n",
    "    for b in range(matrixes.shape[1]):\n",
    "        for c in range(matrixes.shape[2]):\n",
    "            if(matrixes[a,b,c] > 250):\n",
    "                cv2.circle(src, (b,c), a+1, (0,0,0))\n",
    "                \n",
    "cv2.imshow('Result', src)\n",
    "cv2.imwrite('hough_circle.png', src)\n",
    "cv2.waitKey(0)\n",
    "cv2.destroyAllWindows()"
   ]
  },
  {
   "cell_type": "code",
   "execution_count": null,
   "metadata": {},
   "outputs": [],
   "source": [
    "src = cv2.imread('images/circles.jpg', 0)\n",
    "src = cv2.resize(src,(360,480))\n",
    "\n",
    "for a in range(matrixes.shape[0]):\n",
    "    for b in range(matrixes.shape[1]):\n",
    "        for c in range(matrixes.shape[2]):\n",
    "            if(matrixes[a,b,c] > 250):\n",
    "                cv2.circle(src, (b,c), a+1, (0,0,0))\n",
    "                \n",
    "cv2.imwrite('hough_circle.png', src)\n",
    "cv2.waitKey(0)\n",
    "cv2.destroyAllWindows()"
   ]
  },
  {
   "cell_type": "code",
   "execution_count": null,
   "metadata": {
    "collapsed": true
   },
   "outputs": [],
   "source": [
    "src = cv2.imread('images/circles.jpg', 0)\n",
    "src = cv2.resize(src,(360,480))\n",
    "\n",
    "for a in range(matrixes.shape[0]):\n",
    "    for b in range(matrixes.shape[1]):\n",
    "        for c in range(matrixes.shape[2]):\n",
    "            if(matrixes[a,b,c] > 250):\n",
    "                cv2.circle(src, (b,c), a+1, (0,0,0))\n",
    "                \n",
    "cv2.imwrite('hough_circle.png', src)\n",
    "cv2.waitKey(0)\n",
    "cv2.destroyAllWindows()"
   ]
  }
 ],
 "metadata": {
  "anaconda-cloud": {},
  "kernelspec": {
   "display_name": "Python [anaconda3]",
   "language": "python",
   "name": "Python [anaconda3]"
  },
  "language_info": {
   "codemirror_mode": {
    "name": "ipython",
    "version": 3
   },
   "file_extension": ".py",
   "mimetype": "text/x-python",
   "name": "python",
   "nbconvert_exporter": "python",
   "pygments_lexer": "ipython3",
   "version": "3.5.4"
  }
 },
 "nbformat": 4,
 "nbformat_minor": 1
}
